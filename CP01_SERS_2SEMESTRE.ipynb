{
  "nbformat": 4,
  "nbformat_minor": 0,
  "metadata": {
    "colab": {
      "provenance": [],
      "mount_file_id": "1PKuc4pSb7kXhlboRUY-v8oRRHINOdsfw",
      "authorship_tag": "ABX9TyMsoaSKpLqrKVwdol7n0pXS",
      "include_colab_link": true
    },
    "kernelspec": {
      "name": "python3",
      "display_name": "Python 3"
    },
    "language_info": {
      "name": "python"
    }
  },
  "cells": [
    {
      "cell_type": "markdown",
      "metadata": {
        "id": "view-in-github",
        "colab_type": "text"
      },
      "source": [
        "<a href=\"https://colab.research.google.com/github/jumarques03/CP01-SERS-2SEMESTRE/blob/main/CP01_SERS_2SEMESTRE.ipynb\" target=\"_parent\"><img src=\"https://colab.research.google.com/assets/colab-badge.svg\" alt=\"Open In Colab\"/></a>"
      ]
    },
    {
      "cell_type": "markdown",
      "source": [
        "df01 -----> Sem as colunas Date e Time\n",
        "\n",
        "df02 -----> Com as colunas Date e Time"
      ],
      "metadata": {
        "id": "ux0Ax8OPyn00"
      }
    },
    {
      "cell_type": "markdown",
      "source": [
        "***1. Carregue o dataset e exiba as 10 primeiras linhas.***\n"
      ],
      "metadata": {
        "id": "EcZCPQTXh2l9"
      }
    },
    {
      "cell_type": "code",
      "source": [
        "import pandas as pd"
      ],
      "metadata": {
        "id": "hJLO63IUiCV1"
      },
      "execution_count": 112,
      "outputs": []
    },
    {
      "cell_type": "code",
      "source": [
        "df01= pd.read_csv(\"/content/drive/MyDrive/household_power_consumption (1).txt\", sep=\";\", low_memory=False) # Isso aqui vai se tornar um DataFrame\n",
        "df02= df01.copy()\n",
        "\n",
        "df01.head(10)"
      ],
      "metadata": {
        "colab": {
          "base_uri": "https://localhost:8080/",
          "height": 363
        },
        "id": "rbSSmdw5g2X4",
        "outputId": "726825b5-6814-499d-bf59-f0b0efa7f9f3"
      },
      "execution_count": 113,
      "outputs": [
        {
          "output_type": "execute_result",
          "data": {
            "text/plain": [
              "         Date      Time Global_active_power Global_reactive_power  Voltage  \\\n",
              "0  16/12/2006  17:24:00               4.216                 0.418  234.840   \n",
              "1  16/12/2006  17:25:00               5.360                 0.436  233.630   \n",
              "2  16/12/2006  17:26:00               5.374                 0.498  233.290   \n",
              "3  16/12/2006  17:27:00               5.388                 0.502  233.740   \n",
              "4  16/12/2006  17:28:00               3.666                 0.528  235.680   \n",
              "5  16/12/2006  17:29:00               3.520                 0.522  235.020   \n",
              "6  16/12/2006  17:30:00               3.702                 0.520  235.090   \n",
              "7  16/12/2006  17:31:00               3.700                 0.520  235.220   \n",
              "8  16/12/2006  17:32:00               3.668                 0.510  233.990   \n",
              "9  16/12/2006  17:33:00               3.662                 0.510  233.860   \n",
              "\n",
              "  Global_intensity Sub_metering_1 Sub_metering_2  Sub_metering_3  \n",
              "0           18.400          0.000          1.000            17.0  \n",
              "1           23.000          0.000          1.000            16.0  \n",
              "2           23.000          0.000          2.000            17.0  \n",
              "3           23.000          0.000          1.000            17.0  \n",
              "4           15.800          0.000          1.000            17.0  \n",
              "5           15.000          0.000          2.000            17.0  \n",
              "6           15.800          0.000          1.000            17.0  \n",
              "7           15.800          0.000          1.000            17.0  \n",
              "8           15.800          0.000          1.000            17.0  \n",
              "9           15.800          0.000          2.000            16.0  "
            ],
            "text/html": [
              "\n",
              "  <div id=\"df-ab1df4c4-d666-4d87-9de4-d645d5df0b41\" class=\"colab-df-container\">\n",
              "    <div>\n",
              "<style scoped>\n",
              "    .dataframe tbody tr th:only-of-type {\n",
              "        vertical-align: middle;\n",
              "    }\n",
              "\n",
              "    .dataframe tbody tr th {\n",
              "        vertical-align: top;\n",
              "    }\n",
              "\n",
              "    .dataframe thead th {\n",
              "        text-align: right;\n",
              "    }\n",
              "</style>\n",
              "<table border=\"1\" class=\"dataframe\">\n",
              "  <thead>\n",
              "    <tr style=\"text-align: right;\">\n",
              "      <th></th>\n",
              "      <th>Date</th>\n",
              "      <th>Time</th>\n",
              "      <th>Global_active_power</th>\n",
              "      <th>Global_reactive_power</th>\n",
              "      <th>Voltage</th>\n",
              "      <th>Global_intensity</th>\n",
              "      <th>Sub_metering_1</th>\n",
              "      <th>Sub_metering_2</th>\n",
              "      <th>Sub_metering_3</th>\n",
              "    </tr>\n",
              "  </thead>\n",
              "  <tbody>\n",
              "    <tr>\n",
              "      <th>0</th>\n",
              "      <td>16/12/2006</td>\n",
              "      <td>17:24:00</td>\n",
              "      <td>4.216</td>\n",
              "      <td>0.418</td>\n",
              "      <td>234.840</td>\n",
              "      <td>18.400</td>\n",
              "      <td>0.000</td>\n",
              "      <td>1.000</td>\n",
              "      <td>17.0</td>\n",
              "    </tr>\n",
              "    <tr>\n",
              "      <th>1</th>\n",
              "      <td>16/12/2006</td>\n",
              "      <td>17:25:00</td>\n",
              "      <td>5.360</td>\n",
              "      <td>0.436</td>\n",
              "      <td>233.630</td>\n",
              "      <td>23.000</td>\n",
              "      <td>0.000</td>\n",
              "      <td>1.000</td>\n",
              "      <td>16.0</td>\n",
              "    </tr>\n",
              "    <tr>\n",
              "      <th>2</th>\n",
              "      <td>16/12/2006</td>\n",
              "      <td>17:26:00</td>\n",
              "      <td>5.374</td>\n",
              "      <td>0.498</td>\n",
              "      <td>233.290</td>\n",
              "      <td>23.000</td>\n",
              "      <td>0.000</td>\n",
              "      <td>2.000</td>\n",
              "      <td>17.0</td>\n",
              "    </tr>\n",
              "    <tr>\n",
              "      <th>3</th>\n",
              "      <td>16/12/2006</td>\n",
              "      <td>17:27:00</td>\n",
              "      <td>5.388</td>\n",
              "      <td>0.502</td>\n",
              "      <td>233.740</td>\n",
              "      <td>23.000</td>\n",
              "      <td>0.000</td>\n",
              "      <td>1.000</td>\n",
              "      <td>17.0</td>\n",
              "    </tr>\n",
              "    <tr>\n",
              "      <th>4</th>\n",
              "      <td>16/12/2006</td>\n",
              "      <td>17:28:00</td>\n",
              "      <td>3.666</td>\n",
              "      <td>0.528</td>\n",
              "      <td>235.680</td>\n",
              "      <td>15.800</td>\n",
              "      <td>0.000</td>\n",
              "      <td>1.000</td>\n",
              "      <td>17.0</td>\n",
              "    </tr>\n",
              "    <tr>\n",
              "      <th>5</th>\n",
              "      <td>16/12/2006</td>\n",
              "      <td>17:29:00</td>\n",
              "      <td>3.520</td>\n",
              "      <td>0.522</td>\n",
              "      <td>235.020</td>\n",
              "      <td>15.000</td>\n",
              "      <td>0.000</td>\n",
              "      <td>2.000</td>\n",
              "      <td>17.0</td>\n",
              "    </tr>\n",
              "    <tr>\n",
              "      <th>6</th>\n",
              "      <td>16/12/2006</td>\n",
              "      <td>17:30:00</td>\n",
              "      <td>3.702</td>\n",
              "      <td>0.520</td>\n",
              "      <td>235.090</td>\n",
              "      <td>15.800</td>\n",
              "      <td>0.000</td>\n",
              "      <td>1.000</td>\n",
              "      <td>17.0</td>\n",
              "    </tr>\n",
              "    <tr>\n",
              "      <th>7</th>\n",
              "      <td>16/12/2006</td>\n",
              "      <td>17:31:00</td>\n",
              "      <td>3.700</td>\n",
              "      <td>0.520</td>\n",
              "      <td>235.220</td>\n",
              "      <td>15.800</td>\n",
              "      <td>0.000</td>\n",
              "      <td>1.000</td>\n",
              "      <td>17.0</td>\n",
              "    </tr>\n",
              "    <tr>\n",
              "      <th>8</th>\n",
              "      <td>16/12/2006</td>\n",
              "      <td>17:32:00</td>\n",
              "      <td>3.668</td>\n",
              "      <td>0.510</td>\n",
              "      <td>233.990</td>\n",
              "      <td>15.800</td>\n",
              "      <td>0.000</td>\n",
              "      <td>1.000</td>\n",
              "      <td>17.0</td>\n",
              "    </tr>\n",
              "    <tr>\n",
              "      <th>9</th>\n",
              "      <td>16/12/2006</td>\n",
              "      <td>17:33:00</td>\n",
              "      <td>3.662</td>\n",
              "      <td>0.510</td>\n",
              "      <td>233.860</td>\n",
              "      <td>15.800</td>\n",
              "      <td>0.000</td>\n",
              "      <td>2.000</td>\n",
              "      <td>16.0</td>\n",
              "    </tr>\n",
              "  </tbody>\n",
              "</table>\n",
              "</div>\n",
              "    <div class=\"colab-df-buttons\">\n",
              "\n",
              "  <div class=\"colab-df-container\">\n",
              "    <button class=\"colab-df-convert\" onclick=\"convertToInteractive('df-ab1df4c4-d666-4d87-9de4-d645d5df0b41')\"\n",
              "            title=\"Convert this dataframe to an interactive table.\"\n",
              "            style=\"display:none;\">\n",
              "\n",
              "  <svg xmlns=\"http://www.w3.org/2000/svg\" height=\"24px\" viewBox=\"0 -960 960 960\">\n",
              "    <path d=\"M120-120v-720h720v720H120Zm60-500h600v-160H180v160Zm220 220h160v-160H400v160Zm0 220h160v-160H400v160ZM180-400h160v-160H180v160Zm440 0h160v-160H620v160ZM180-180h160v-160H180v160Zm440 0h160v-160H620v160Z\"/>\n",
              "  </svg>\n",
              "    </button>\n",
              "\n",
              "  <style>\n",
              "    .colab-df-container {\n",
              "      display:flex;\n",
              "      gap: 12px;\n",
              "    }\n",
              "\n",
              "    .colab-df-convert {\n",
              "      background-color: #E8F0FE;\n",
              "      border: none;\n",
              "      border-radius: 50%;\n",
              "      cursor: pointer;\n",
              "      display: none;\n",
              "      fill: #1967D2;\n",
              "      height: 32px;\n",
              "      padding: 0 0 0 0;\n",
              "      width: 32px;\n",
              "    }\n",
              "\n",
              "    .colab-df-convert:hover {\n",
              "      background-color: #E2EBFA;\n",
              "      box-shadow: 0px 1px 2px rgba(60, 64, 67, 0.3), 0px 1px 3px 1px rgba(60, 64, 67, 0.15);\n",
              "      fill: #174EA6;\n",
              "    }\n",
              "\n",
              "    .colab-df-buttons div {\n",
              "      margin-bottom: 4px;\n",
              "    }\n",
              "\n",
              "    [theme=dark] .colab-df-convert {\n",
              "      background-color: #3B4455;\n",
              "      fill: #D2E3FC;\n",
              "    }\n",
              "\n",
              "    [theme=dark] .colab-df-convert:hover {\n",
              "      background-color: #434B5C;\n",
              "      box-shadow: 0px 1px 3px 1px rgba(0, 0, 0, 0.15);\n",
              "      filter: drop-shadow(0px 1px 2px rgba(0, 0, 0, 0.3));\n",
              "      fill: #FFFFFF;\n",
              "    }\n",
              "  </style>\n",
              "\n",
              "    <script>\n",
              "      const buttonEl =\n",
              "        document.querySelector('#df-ab1df4c4-d666-4d87-9de4-d645d5df0b41 button.colab-df-convert');\n",
              "      buttonEl.style.display =\n",
              "        google.colab.kernel.accessAllowed ? 'block' : 'none';\n",
              "\n",
              "      async function convertToInteractive(key) {\n",
              "        const element = document.querySelector('#df-ab1df4c4-d666-4d87-9de4-d645d5df0b41');\n",
              "        const dataTable =\n",
              "          await google.colab.kernel.invokeFunction('convertToInteractive',\n",
              "                                                    [key], {});\n",
              "        if (!dataTable) return;\n",
              "\n",
              "        const docLinkHtml = 'Like what you see? Visit the ' +\n",
              "          '<a target=\"_blank\" href=https://colab.research.google.com/notebooks/data_table.ipynb>data table notebook</a>'\n",
              "          + ' to learn more about interactive tables.';\n",
              "        element.innerHTML = '';\n",
              "        dataTable['output_type'] = 'display_data';\n",
              "        await google.colab.output.renderOutput(dataTable, element);\n",
              "        const docLink = document.createElement('div');\n",
              "        docLink.innerHTML = docLinkHtml;\n",
              "        element.appendChild(docLink);\n",
              "      }\n",
              "    </script>\n",
              "  </div>\n",
              "\n",
              "\n",
              "    <div id=\"df-772c7485-ef40-40f5-9410-a579241d656a\">\n",
              "      <button class=\"colab-df-quickchart\" onclick=\"quickchart('df-772c7485-ef40-40f5-9410-a579241d656a')\"\n",
              "                title=\"Suggest charts\"\n",
              "                style=\"display:none;\">\n",
              "\n",
              "<svg xmlns=\"http://www.w3.org/2000/svg\" height=\"24px\"viewBox=\"0 0 24 24\"\n",
              "     width=\"24px\">\n",
              "    <g>\n",
              "        <path d=\"M19 3H5c-1.1 0-2 .9-2 2v14c0 1.1.9 2 2 2h14c1.1 0 2-.9 2-2V5c0-1.1-.9-2-2-2zM9 17H7v-7h2v7zm4 0h-2V7h2v10zm4 0h-2v-4h2v4z\"/>\n",
              "    </g>\n",
              "</svg>\n",
              "      </button>\n",
              "\n",
              "<style>\n",
              "  .colab-df-quickchart {\n",
              "      --bg-color: #E8F0FE;\n",
              "      --fill-color: #1967D2;\n",
              "      --hover-bg-color: #E2EBFA;\n",
              "      --hover-fill-color: #174EA6;\n",
              "      --disabled-fill-color: #AAA;\n",
              "      --disabled-bg-color: #DDD;\n",
              "  }\n",
              "\n",
              "  [theme=dark] .colab-df-quickchart {\n",
              "      --bg-color: #3B4455;\n",
              "      --fill-color: #D2E3FC;\n",
              "      --hover-bg-color: #434B5C;\n",
              "      --hover-fill-color: #FFFFFF;\n",
              "      --disabled-bg-color: #3B4455;\n",
              "      --disabled-fill-color: #666;\n",
              "  }\n",
              "\n",
              "  .colab-df-quickchart {\n",
              "    background-color: var(--bg-color);\n",
              "    border: none;\n",
              "    border-radius: 50%;\n",
              "    cursor: pointer;\n",
              "    display: none;\n",
              "    fill: var(--fill-color);\n",
              "    height: 32px;\n",
              "    padding: 0;\n",
              "    width: 32px;\n",
              "  }\n",
              "\n",
              "  .colab-df-quickchart:hover {\n",
              "    background-color: var(--hover-bg-color);\n",
              "    box-shadow: 0 1px 2px rgba(60, 64, 67, 0.3), 0 1px 3px 1px rgba(60, 64, 67, 0.15);\n",
              "    fill: var(--button-hover-fill-color);\n",
              "  }\n",
              "\n",
              "  .colab-df-quickchart-complete:disabled,\n",
              "  .colab-df-quickchart-complete:disabled:hover {\n",
              "    background-color: var(--disabled-bg-color);\n",
              "    fill: var(--disabled-fill-color);\n",
              "    box-shadow: none;\n",
              "  }\n",
              "\n",
              "  .colab-df-spinner {\n",
              "    border: 2px solid var(--fill-color);\n",
              "    border-color: transparent;\n",
              "    border-bottom-color: var(--fill-color);\n",
              "    animation:\n",
              "      spin 1s steps(1) infinite;\n",
              "  }\n",
              "\n",
              "  @keyframes spin {\n",
              "    0% {\n",
              "      border-color: transparent;\n",
              "      border-bottom-color: var(--fill-color);\n",
              "      border-left-color: var(--fill-color);\n",
              "    }\n",
              "    20% {\n",
              "      border-color: transparent;\n",
              "      border-left-color: var(--fill-color);\n",
              "      border-top-color: var(--fill-color);\n",
              "    }\n",
              "    30% {\n",
              "      border-color: transparent;\n",
              "      border-left-color: var(--fill-color);\n",
              "      border-top-color: var(--fill-color);\n",
              "      border-right-color: var(--fill-color);\n",
              "    }\n",
              "    40% {\n",
              "      border-color: transparent;\n",
              "      border-right-color: var(--fill-color);\n",
              "      border-top-color: var(--fill-color);\n",
              "    }\n",
              "    60% {\n",
              "      border-color: transparent;\n",
              "      border-right-color: var(--fill-color);\n",
              "    }\n",
              "    80% {\n",
              "      border-color: transparent;\n",
              "      border-right-color: var(--fill-color);\n",
              "      border-bottom-color: var(--fill-color);\n",
              "    }\n",
              "    90% {\n",
              "      border-color: transparent;\n",
              "      border-bottom-color: var(--fill-color);\n",
              "    }\n",
              "  }\n",
              "</style>\n",
              "\n",
              "      <script>\n",
              "        async function quickchart(key) {\n",
              "          const quickchartButtonEl =\n",
              "            document.querySelector('#' + key + ' button');\n",
              "          quickchartButtonEl.disabled = true;  // To prevent multiple clicks.\n",
              "          quickchartButtonEl.classList.add('colab-df-spinner');\n",
              "          try {\n",
              "            const charts = await google.colab.kernel.invokeFunction(\n",
              "                'suggestCharts', [key], {});\n",
              "          } catch (error) {\n",
              "            console.error('Error during call to suggestCharts:', error);\n",
              "          }\n",
              "          quickchartButtonEl.classList.remove('colab-df-spinner');\n",
              "          quickchartButtonEl.classList.add('colab-df-quickchart-complete');\n",
              "        }\n",
              "        (() => {\n",
              "          let quickchartButtonEl =\n",
              "            document.querySelector('#df-772c7485-ef40-40f5-9410-a579241d656a button');\n",
              "          quickchartButtonEl.style.display =\n",
              "            google.colab.kernel.accessAllowed ? 'block' : 'none';\n",
              "        })();\n",
              "      </script>\n",
              "    </div>\n",
              "\n",
              "    </div>\n",
              "  </div>\n"
            ],
            "application/vnd.google.colaboratory.intrinsic+json": {
              "type": "dataframe",
              "variable_name": "df01"
            }
          },
          "metadata": {},
          "execution_count": 113
        }
      ]
    },
    {
      "cell_type": "markdown",
      "source": [
        "***2. Explique a diferença entre as variáveis Global_active_power e Global_reactive_power.***"
      ],
      "metadata": {
        "id": "qW5RFDPQjazG"
      }
    },
    {
      "cell_type": "markdown",
      "source": [
        "***3. Verifique se existem valores ausentes no dataset. Quantifique-os***"
      ],
      "metadata": {
        "id": "LUTbcxOnjcuV"
      }
    },
    {
      "cell_type": "code",
      "source": [
        "# Removendo as colunas \"Date\" e \"Time\"\n",
        "df01= df01.drop(['Date', 'Time'], axis=1)"
      ],
      "metadata": {
        "id": "pTBl0VgWlsiM"
      },
      "execution_count": 114,
      "outputs": []
    },
    {
      "cell_type": "code",
      "source": [
        "# Convertendo as colunas tipo 'object' para 'float'\n",
        "for coluna in df01.columns:\n",
        "  df01[f'{coluna}'] = pd.to_numeric(df01[f'{coluna}'], errors='coerce')   # 'errors='coerce' --> trata valores não convertíveis como NaN (Not a Number)\n",
        "\n",
        "df01.info()"
      ],
      "metadata": {
        "id": "gkZdTa0uns1F",
        "colab": {
          "base_uri": "https://localhost:8080/"
        },
        "outputId": "db16a1d3-fa75-4ba3-a3dd-3a4bc9f9fe83"
      },
      "execution_count": 115,
      "outputs": [
        {
          "output_type": "stream",
          "name": "stdout",
          "text": [
            "<class 'pandas.core.frame.DataFrame'>\n",
            "RangeIndex: 2075259 entries, 0 to 2075258\n",
            "Data columns (total 7 columns):\n",
            " #   Column                 Dtype  \n",
            "---  ------                 -----  \n",
            " 0   Global_active_power    float64\n",
            " 1   Global_reactive_power  float64\n",
            " 2   Voltage                float64\n",
            " 3   Global_intensity       float64\n",
            " 4   Sub_metering_1         float64\n",
            " 5   Sub_metering_2         float64\n",
            " 6   Sub_metering_3         float64\n",
            "dtypes: float64(7)\n",
            "memory usage: 110.8 MB\n"
          ]
        }
      ]
    },
    {
      "cell_type": "code",
      "source": [
        "valores_ausentes = df01.isnull().sum()\n",
        "print(\"Valores Ausentes por Coluna:\\n\")\n",
        "print(valores_ausentes)"
      ],
      "metadata": {
        "colab": {
          "base_uri": "https://localhost:8080/"
        },
        "id": "xwOa2jcuj2Sd",
        "outputId": "34cd3375-b8bd-44c6-e67e-49f33f60c090"
      },
      "execution_count": 116,
      "outputs": [
        {
          "output_type": "stream",
          "name": "stdout",
          "text": [
            "Valores Ausentes por Coluna:\n",
            "\n",
            "Global_active_power      25979\n",
            "Global_reactive_power    25979\n",
            "Voltage                  25979\n",
            "Global_intensity         25979\n",
            "Sub_metering_1           25979\n",
            "Sub_metering_2           25979\n",
            "Sub_metering_3           25979\n",
            "dtype: int64\n"
          ]
        }
      ]
    },
    {
      "cell_type": "markdown",
      "source": [
        "***4. Converta a coluna Date para o tipo datetime e crie uma nova coluna com o dia da semana\n",
        "correspondente.***"
      ],
      "metadata": {
        "id": "SvzDshSVowzX"
      }
    },
    {
      "cell_type": "code",
      "source": [
        "df02['Date'] = pd.to_datetime(df02['Date'])\n",
        "\n",
        "df02.insert(2, 'Dia da Semana', df02['Date'].dt.day_name())\n",
        "\n",
        "df02.head()"
      ],
      "metadata": {
        "colab": {
          "base_uri": "https://localhost:8080/",
          "height": 261
        },
        "id": "qX9hGK38pktl",
        "outputId": "2cba77ab-57ce-4f89-8b4e-19375dde6e5a"
      },
      "execution_count": 117,
      "outputs": [
        {
          "output_type": "stream",
          "name": "stderr",
          "text": [
            "/tmp/ipython-input-3229626236.py:1: UserWarning: Parsing dates in %d/%m/%Y format when dayfirst=False (the default) was specified. Pass `dayfirst=True` or specify a format to silence this warning.\n",
            "  df02['Date'] = pd.to_datetime(df02['Date'])\n"
          ]
        },
        {
          "output_type": "execute_result",
          "data": {
            "text/plain": [
              "        Date      Time Dia da Semana Global_active_power  \\\n",
              "0 2006-12-16  17:24:00      Saturday               4.216   \n",
              "1 2006-12-16  17:25:00      Saturday               5.360   \n",
              "2 2006-12-16  17:26:00      Saturday               5.374   \n",
              "3 2006-12-16  17:27:00      Saturday               5.388   \n",
              "4 2006-12-16  17:28:00      Saturday               3.666   \n",
              "\n",
              "  Global_reactive_power  Voltage Global_intensity Sub_metering_1  \\\n",
              "0                 0.418  234.840           18.400          0.000   \n",
              "1                 0.436  233.630           23.000          0.000   \n",
              "2                 0.498  233.290           23.000          0.000   \n",
              "3                 0.502  233.740           23.000          0.000   \n",
              "4                 0.528  235.680           15.800          0.000   \n",
              "\n",
              "  Sub_metering_2  Sub_metering_3  \n",
              "0          1.000            17.0  \n",
              "1          1.000            16.0  \n",
              "2          2.000            17.0  \n",
              "3          1.000            17.0  \n",
              "4          1.000            17.0  "
            ],
            "text/html": [
              "\n",
              "  <div id=\"df-90e6a222-0f4d-41f2-801b-830c030ac3a6\" class=\"colab-df-container\">\n",
              "    <div>\n",
              "<style scoped>\n",
              "    .dataframe tbody tr th:only-of-type {\n",
              "        vertical-align: middle;\n",
              "    }\n",
              "\n",
              "    .dataframe tbody tr th {\n",
              "        vertical-align: top;\n",
              "    }\n",
              "\n",
              "    .dataframe thead th {\n",
              "        text-align: right;\n",
              "    }\n",
              "</style>\n",
              "<table border=\"1\" class=\"dataframe\">\n",
              "  <thead>\n",
              "    <tr style=\"text-align: right;\">\n",
              "      <th></th>\n",
              "      <th>Date</th>\n",
              "      <th>Time</th>\n",
              "      <th>Dia da Semana</th>\n",
              "      <th>Global_active_power</th>\n",
              "      <th>Global_reactive_power</th>\n",
              "      <th>Voltage</th>\n",
              "      <th>Global_intensity</th>\n",
              "      <th>Sub_metering_1</th>\n",
              "      <th>Sub_metering_2</th>\n",
              "      <th>Sub_metering_3</th>\n",
              "    </tr>\n",
              "  </thead>\n",
              "  <tbody>\n",
              "    <tr>\n",
              "      <th>0</th>\n",
              "      <td>2006-12-16</td>\n",
              "      <td>17:24:00</td>\n",
              "      <td>Saturday</td>\n",
              "      <td>4.216</td>\n",
              "      <td>0.418</td>\n",
              "      <td>234.840</td>\n",
              "      <td>18.400</td>\n",
              "      <td>0.000</td>\n",
              "      <td>1.000</td>\n",
              "      <td>17.0</td>\n",
              "    </tr>\n",
              "    <tr>\n",
              "      <th>1</th>\n",
              "      <td>2006-12-16</td>\n",
              "      <td>17:25:00</td>\n",
              "      <td>Saturday</td>\n",
              "      <td>5.360</td>\n",
              "      <td>0.436</td>\n",
              "      <td>233.630</td>\n",
              "      <td>23.000</td>\n",
              "      <td>0.000</td>\n",
              "      <td>1.000</td>\n",
              "      <td>16.0</td>\n",
              "    </tr>\n",
              "    <tr>\n",
              "      <th>2</th>\n",
              "      <td>2006-12-16</td>\n",
              "      <td>17:26:00</td>\n",
              "      <td>Saturday</td>\n",
              "      <td>5.374</td>\n",
              "      <td>0.498</td>\n",
              "      <td>233.290</td>\n",
              "      <td>23.000</td>\n",
              "      <td>0.000</td>\n",
              "      <td>2.000</td>\n",
              "      <td>17.0</td>\n",
              "    </tr>\n",
              "    <tr>\n",
              "      <th>3</th>\n",
              "      <td>2006-12-16</td>\n",
              "      <td>17:27:00</td>\n",
              "      <td>Saturday</td>\n",
              "      <td>5.388</td>\n",
              "      <td>0.502</td>\n",
              "      <td>233.740</td>\n",
              "      <td>23.000</td>\n",
              "      <td>0.000</td>\n",
              "      <td>1.000</td>\n",
              "      <td>17.0</td>\n",
              "    </tr>\n",
              "    <tr>\n",
              "      <th>4</th>\n",
              "      <td>2006-12-16</td>\n",
              "      <td>17:28:00</td>\n",
              "      <td>Saturday</td>\n",
              "      <td>3.666</td>\n",
              "      <td>0.528</td>\n",
              "      <td>235.680</td>\n",
              "      <td>15.800</td>\n",
              "      <td>0.000</td>\n",
              "      <td>1.000</td>\n",
              "      <td>17.0</td>\n",
              "    </tr>\n",
              "  </tbody>\n",
              "</table>\n",
              "</div>\n",
              "    <div class=\"colab-df-buttons\">\n",
              "\n",
              "  <div class=\"colab-df-container\">\n",
              "    <button class=\"colab-df-convert\" onclick=\"convertToInteractive('df-90e6a222-0f4d-41f2-801b-830c030ac3a6')\"\n",
              "            title=\"Convert this dataframe to an interactive table.\"\n",
              "            style=\"display:none;\">\n",
              "\n",
              "  <svg xmlns=\"http://www.w3.org/2000/svg\" height=\"24px\" viewBox=\"0 -960 960 960\">\n",
              "    <path d=\"M120-120v-720h720v720H120Zm60-500h600v-160H180v160Zm220 220h160v-160H400v160Zm0 220h160v-160H400v160ZM180-400h160v-160H180v160Zm440 0h160v-160H620v160ZM180-180h160v-160H180v160Zm440 0h160v-160H620v160Z\"/>\n",
              "  </svg>\n",
              "    </button>\n",
              "\n",
              "  <style>\n",
              "    .colab-df-container {\n",
              "      display:flex;\n",
              "      gap: 12px;\n",
              "    }\n",
              "\n",
              "    .colab-df-convert {\n",
              "      background-color: #E8F0FE;\n",
              "      border: none;\n",
              "      border-radius: 50%;\n",
              "      cursor: pointer;\n",
              "      display: none;\n",
              "      fill: #1967D2;\n",
              "      height: 32px;\n",
              "      padding: 0 0 0 0;\n",
              "      width: 32px;\n",
              "    }\n",
              "\n",
              "    .colab-df-convert:hover {\n",
              "      background-color: #E2EBFA;\n",
              "      box-shadow: 0px 1px 2px rgba(60, 64, 67, 0.3), 0px 1px 3px 1px rgba(60, 64, 67, 0.15);\n",
              "      fill: #174EA6;\n",
              "    }\n",
              "\n",
              "    .colab-df-buttons div {\n",
              "      margin-bottom: 4px;\n",
              "    }\n",
              "\n",
              "    [theme=dark] .colab-df-convert {\n",
              "      background-color: #3B4455;\n",
              "      fill: #D2E3FC;\n",
              "    }\n",
              "\n",
              "    [theme=dark] .colab-df-convert:hover {\n",
              "      background-color: #434B5C;\n",
              "      box-shadow: 0px 1px 3px 1px rgba(0, 0, 0, 0.15);\n",
              "      filter: drop-shadow(0px 1px 2px rgba(0, 0, 0, 0.3));\n",
              "      fill: #FFFFFF;\n",
              "    }\n",
              "  </style>\n",
              "\n",
              "    <script>\n",
              "      const buttonEl =\n",
              "        document.querySelector('#df-90e6a222-0f4d-41f2-801b-830c030ac3a6 button.colab-df-convert');\n",
              "      buttonEl.style.display =\n",
              "        google.colab.kernel.accessAllowed ? 'block' : 'none';\n",
              "\n",
              "      async function convertToInteractive(key) {\n",
              "        const element = document.querySelector('#df-90e6a222-0f4d-41f2-801b-830c030ac3a6');\n",
              "        const dataTable =\n",
              "          await google.colab.kernel.invokeFunction('convertToInteractive',\n",
              "                                                    [key], {});\n",
              "        if (!dataTable) return;\n",
              "\n",
              "        const docLinkHtml = 'Like what you see? Visit the ' +\n",
              "          '<a target=\"_blank\" href=https://colab.research.google.com/notebooks/data_table.ipynb>data table notebook</a>'\n",
              "          + ' to learn more about interactive tables.';\n",
              "        element.innerHTML = '';\n",
              "        dataTable['output_type'] = 'display_data';\n",
              "        await google.colab.output.renderOutput(dataTable, element);\n",
              "        const docLink = document.createElement('div');\n",
              "        docLink.innerHTML = docLinkHtml;\n",
              "        element.appendChild(docLink);\n",
              "      }\n",
              "    </script>\n",
              "  </div>\n",
              "\n",
              "\n",
              "    <div id=\"df-8449f6a3-3f6f-44a2-8a76-6450233d986c\">\n",
              "      <button class=\"colab-df-quickchart\" onclick=\"quickchart('df-8449f6a3-3f6f-44a2-8a76-6450233d986c')\"\n",
              "                title=\"Suggest charts\"\n",
              "                style=\"display:none;\">\n",
              "\n",
              "<svg xmlns=\"http://www.w3.org/2000/svg\" height=\"24px\"viewBox=\"0 0 24 24\"\n",
              "     width=\"24px\">\n",
              "    <g>\n",
              "        <path d=\"M19 3H5c-1.1 0-2 .9-2 2v14c0 1.1.9 2 2 2h14c1.1 0 2-.9 2-2V5c0-1.1-.9-2-2-2zM9 17H7v-7h2v7zm4 0h-2V7h2v10zm4 0h-2v-4h2v4z\"/>\n",
              "    </g>\n",
              "</svg>\n",
              "      </button>\n",
              "\n",
              "<style>\n",
              "  .colab-df-quickchart {\n",
              "      --bg-color: #E8F0FE;\n",
              "      --fill-color: #1967D2;\n",
              "      --hover-bg-color: #E2EBFA;\n",
              "      --hover-fill-color: #174EA6;\n",
              "      --disabled-fill-color: #AAA;\n",
              "      --disabled-bg-color: #DDD;\n",
              "  }\n",
              "\n",
              "  [theme=dark] .colab-df-quickchart {\n",
              "      --bg-color: #3B4455;\n",
              "      --fill-color: #D2E3FC;\n",
              "      --hover-bg-color: #434B5C;\n",
              "      --hover-fill-color: #FFFFFF;\n",
              "      --disabled-bg-color: #3B4455;\n",
              "      --disabled-fill-color: #666;\n",
              "  }\n",
              "\n",
              "  .colab-df-quickchart {\n",
              "    background-color: var(--bg-color);\n",
              "    border: none;\n",
              "    border-radius: 50%;\n",
              "    cursor: pointer;\n",
              "    display: none;\n",
              "    fill: var(--fill-color);\n",
              "    height: 32px;\n",
              "    padding: 0;\n",
              "    width: 32px;\n",
              "  }\n",
              "\n",
              "  .colab-df-quickchart:hover {\n",
              "    background-color: var(--hover-bg-color);\n",
              "    box-shadow: 0 1px 2px rgba(60, 64, 67, 0.3), 0 1px 3px 1px rgba(60, 64, 67, 0.15);\n",
              "    fill: var(--button-hover-fill-color);\n",
              "  }\n",
              "\n",
              "  .colab-df-quickchart-complete:disabled,\n",
              "  .colab-df-quickchart-complete:disabled:hover {\n",
              "    background-color: var(--disabled-bg-color);\n",
              "    fill: var(--disabled-fill-color);\n",
              "    box-shadow: none;\n",
              "  }\n",
              "\n",
              "  .colab-df-spinner {\n",
              "    border: 2px solid var(--fill-color);\n",
              "    border-color: transparent;\n",
              "    border-bottom-color: var(--fill-color);\n",
              "    animation:\n",
              "      spin 1s steps(1) infinite;\n",
              "  }\n",
              "\n",
              "  @keyframes spin {\n",
              "    0% {\n",
              "      border-color: transparent;\n",
              "      border-bottom-color: var(--fill-color);\n",
              "      border-left-color: var(--fill-color);\n",
              "    }\n",
              "    20% {\n",
              "      border-color: transparent;\n",
              "      border-left-color: var(--fill-color);\n",
              "      border-top-color: var(--fill-color);\n",
              "    }\n",
              "    30% {\n",
              "      border-color: transparent;\n",
              "      border-left-color: var(--fill-color);\n",
              "      border-top-color: var(--fill-color);\n",
              "      border-right-color: var(--fill-color);\n",
              "    }\n",
              "    40% {\n",
              "      border-color: transparent;\n",
              "      border-right-color: var(--fill-color);\n",
              "      border-top-color: var(--fill-color);\n",
              "    }\n",
              "    60% {\n",
              "      border-color: transparent;\n",
              "      border-right-color: var(--fill-color);\n",
              "    }\n",
              "    80% {\n",
              "      border-color: transparent;\n",
              "      border-right-color: var(--fill-color);\n",
              "      border-bottom-color: var(--fill-color);\n",
              "    }\n",
              "    90% {\n",
              "      border-color: transparent;\n",
              "      border-bottom-color: var(--fill-color);\n",
              "    }\n",
              "  }\n",
              "</style>\n",
              "\n",
              "      <script>\n",
              "        async function quickchart(key) {\n",
              "          const quickchartButtonEl =\n",
              "            document.querySelector('#' + key + ' button');\n",
              "          quickchartButtonEl.disabled = true;  // To prevent multiple clicks.\n",
              "          quickchartButtonEl.classList.add('colab-df-spinner');\n",
              "          try {\n",
              "            const charts = await google.colab.kernel.invokeFunction(\n",
              "                'suggestCharts', [key], {});\n",
              "          } catch (error) {\n",
              "            console.error('Error during call to suggestCharts:', error);\n",
              "          }\n",
              "          quickchartButtonEl.classList.remove('colab-df-spinner');\n",
              "          quickchartButtonEl.classList.add('colab-df-quickchart-complete');\n",
              "        }\n",
              "        (() => {\n",
              "          let quickchartButtonEl =\n",
              "            document.querySelector('#df-8449f6a3-3f6f-44a2-8a76-6450233d986c button');\n",
              "          quickchartButtonEl.style.display =\n",
              "            google.colab.kernel.accessAllowed ? 'block' : 'none';\n",
              "        })();\n",
              "      </script>\n",
              "    </div>\n",
              "\n",
              "    </div>\n",
              "  </div>\n"
            ],
            "application/vnd.google.colaboratory.intrinsic+json": {
              "type": "dataframe",
              "variable_name": "df02"
            }
          },
          "metadata": {},
          "execution_count": 117
        }
      ]
    },
    {
      "cell_type": "markdown",
      "source": [
        "***5. Filtre os registros apenas do ano de 2007 e calcule a média de consumo diário de\n",
        "Global_active_power.***"
      ],
      "metadata": {
        "id": "GCaOa1IutE71"
      }
    },
    {
      "cell_type": "code",
      "source": [
        "for coluna in df01.columns:\n",
        "  df02[f'{coluna}'] = pd.to_numeric(df02[f'{coluna}'], errors='coerce')\n",
        "\n",
        "valores_2007 = df02[(df02['Date'].dt.year) == 2007]\n",
        "media = valores_2007['Global_active_power'].mean()\n",
        "\n",
        "print(f'A média de consumo diário de Global_active_power no ano de 2007 foi: {media:.2f} KW')"
      ],
      "metadata": {
        "id": "GXUSo7gutyXN",
        "colab": {
          "base_uri": "https://localhost:8080/"
        },
        "outputId": "ae1a1715-bfc4-40ef-8490-03ab8946ec82"
      },
      "execution_count": 118,
      "outputs": [
        {
          "output_type": "stream",
          "name": "stdout",
          "text": [
            "A média de consumo diário de Global_active_power no ano de 2007 foi: 1.12 KW\n"
          ]
        }
      ]
    },
    {
      "cell_type": "markdown",
      "source": [
        "***6. Gere um gráfico de linha mostrando a variação de Global_active_power em um único dia à sua\n",
        "escolha.***  \n",
        "\n"
      ],
      "metadata": {
        "id": "V0iIKE14zPxZ"
      }
    },
    {
      "cell_type": "code",
      "source": [],
      "metadata": {
        "id": "3-rfqmzJHHvz"
      },
      "execution_count": null,
      "outputs": []
    },
    {
      "cell_type": "markdown",
      "source": [
        "***7. Crie um histograma da variável Voltage. O que pode ser observado sobre sua distribuição?***\n"
      ],
      "metadata": {
        "id": "YTyK-0YKzeyI"
      }
    },
    {
      "cell_type": "code",
      "source": [],
      "metadata": {
        "id": "oLwU_DD8HGSI"
      },
      "execution_count": null,
      "outputs": []
    },
    {
      "cell_type": "markdown",
      "source": [
        "***8. Calcule o consumo médio por mês em todo o período disponível no dataset***\n",
        "\n",
        "VERIFICAR SE É ISSO MESMO O CONSUMO (NO CASO, ESSAS COLUNAS)"
      ],
      "metadata": {
        "id": "ZLlMlmLrAYC6"
      }
    },
    {
      "cell_type": "code",
      "source": [
        "df03 = df02.copy()\n",
        "df03 = df03.set_index('Date')\n",
        "\n",
        "df03['Consumo Total'] = df03['Sub_metering_1'] + df03['Sub_metering_2'] + df03['Sub_metering_3']\n",
        "\n",
        "consumo_medio_mensal = df03['Consumo Total'].resample('ME').mean()\n",
        "\n",
        "print(\"Consumo médio (Wh) por mês em todo o período disponível no dataset:\\n\\n\")\n",
        "print(consumo_medio_mensal)"
      ],
      "metadata": {
        "colab": {
          "base_uri": "https://localhost:8080/"
        },
        "id": "GjlrSS_gzf9t",
        "outputId": "4cecea63-36b3-42bd-8d44-eeebf8858454"
      },
      "execution_count": 148,
      "outputs": [
        {
          "output_type": "stream",
          "name": "stdout",
          "text": [
            "Consumo médio (Wh) por mês em todo o período disponível no dataset:\n",
            "\n",
            "\n",
            "Date\n",
            "2006-12-31    10.873181\n",
            "2007-01-31    10.423518\n",
            "2007-02-28     9.486135\n",
            "2007-03-31    10.212863\n",
            "2007-04-30     6.839375\n",
            "2007-05-31     8.452442\n",
            "2007-06-30     7.379151\n",
            "2007-07-31     5.697724\n",
            "2007-08-31     6.979336\n",
            "2007-09-30     8.206236\n",
            "2007-10-31     8.674493\n",
            "2007-11-30     9.819413\n",
            "2007-12-31    11.636551\n",
            "2008-01-31     9.786218\n",
            "2008-02-29     8.447829\n",
            "2008-03-31     9.454894\n",
            "2008-04-30     9.574745\n",
            "2008-05-31     9.019468\n",
            "2008-06-30     9.775226\n",
            "2008-07-31     7.145414\n",
            "2008-08-31     2.370223\n",
            "2008-09-30     8.825185\n",
            "2008-10-31     8.592686\n",
            "2008-11-30     9.135445\n",
            "2008-12-31     8.793377\n",
            "2009-01-31    10.690405\n",
            "2009-02-28     9.786069\n",
            "2009-03-31     9.896702\n",
            "2009-04-30     9.605699\n",
            "2009-05-31     9.067053\n",
            "2009-06-30     8.049430\n",
            "2009-07-31     5.571512\n",
            "2009-08-31     6.041372\n",
            "2009-09-30     9.127787\n",
            "2009-10-31     9.766393\n",
            "2009-11-30    10.404107\n",
            "2009-12-31    11.093687\n",
            "2010-01-31    12.198993\n",
            "2010-02-28    12.762835\n",
            "2010-03-31     9.863492\n",
            "2010-04-30     9.508623\n",
            "2010-05-31    10.419319\n",
            "2010-06-30     9.730913\n",
            "2010-07-31     5.487085\n",
            "2010-08-31     5.336799\n",
            "2010-09-30     8.619814\n",
            "2010-10-31     9.500392\n",
            "2010-11-30     9.005099\n",
            "Freq: ME, Name: Consumo Total, dtype: float64\n"
          ]
        }
      ]
    },
    {
      "cell_type": "markdown",
      "source": [
        "***9. Identifique o dia com maior consumo de energia ativa global (Global_active_power).***"
      ],
      "metadata": {
        "id": "CdB2SkNnHtJI"
      }
    },
    {
      "cell_type": "code",
      "source": [],
      "metadata": {
        "id": "CBxoeTH2LryT"
      },
      "execution_count": null,
      "outputs": []
    },
    {
      "cell_type": "markdown",
      "source": [
        "***10. Compare o consumo médio de energia ativa global em dias de semana versus finais de\n",
        "semana.***"
      ],
      "metadata": {
        "id": "1-iYanx1K3IT"
      }
    },
    {
      "cell_type": "code",
      "source": [],
      "metadata": {
        "id": "udI_pkQEK8fA"
      },
      "execution_count": null,
      "outputs": []
    },
    {
      "cell_type": "markdown",
      "source": [
        "***11. Calcule a correlação entre as variáveis Global_active_power, Global_reactive_power, Voltage\n",
        "e Global_intensity.***"
      ],
      "metadata": {
        "id": "IOrlBWHhK80v"
      }
    },
    {
      "cell_type": "code",
      "source": [],
      "metadata": {
        "id": "4FDoP-dpK_fk"
      },
      "execution_count": null,
      "outputs": []
    },
    {
      "cell_type": "markdown",
      "source": [
        "***12. Crie uma nova variável chamada Total_Sub_metering que some Sub_metering_1,\n",
        "Sub_metering_2 e Sub_metering_3.***"
      ],
      "metadata": {
        "id": "pnaZTelTK_yj"
      }
    },
    {
      "cell_type": "code",
      "source": [],
      "metadata": {
        "id": "CcOdXZ2ALECE"
      },
      "execution_count": null,
      "outputs": []
    },
    {
      "cell_type": "markdown",
      "source": [
        "***13. Verifique se há algum mês em que Total_Sub_metering ultrapassa a média de\n",
        "Global_active_power.***"
      ],
      "metadata": {
        "id": "IKHG1DRCLEcb"
      }
    },
    {
      "cell_type": "code",
      "source": [],
      "metadata": {
        "id": "NOgQJW7jLIh8"
      },
      "execution_count": null,
      "outputs": []
    },
    {
      "cell_type": "markdown",
      "source": [
        "***14. Faça um gráfico de série temporal do Voltage para o ano de 2008.***"
      ],
      "metadata": {
        "id": "gDwIkvjdLI5K"
      }
    },
    {
      "cell_type": "code",
      "source": [],
      "metadata": {
        "id": "U6Xkdz-yLLv-"
      },
      "execution_count": null,
      "outputs": []
    },
    {
      "cell_type": "markdown",
      "source": [
        "***15. Compare o consumo entre os meses de verão e inverno (no hemisfério norte).***"
      ],
      "metadata": {
        "id": "GGUiSsHvLL-E"
      }
    },
    {
      "cell_type": "code",
      "source": [],
      "metadata": {
        "id": "1_tscuUlLQf1"
      },
      "execution_count": null,
      "outputs": []
    },
    {
      "cell_type": "markdown",
      "source": [
        "***16. Aplique uma amostragem aleatória de 1% dos dados e verifique se a distribuição de\n",
        "Global_active_power é semelhante à da base completa.***"
      ],
      "metadata": {
        "id": "g42Z8nOVLQx7"
      }
    },
    {
      "cell_type": "code",
      "source": [],
      "metadata": {
        "id": "w9ESnHcqLZ3L"
      },
      "execution_count": null,
      "outputs": []
    },
    {
      "cell_type": "markdown",
      "source": [
        "***17. Utilize uma técnica de normalização (Min-Max Scaling) para padronizar as variáveis numéricas\n",
        "principais.***"
      ],
      "metadata": {
        "id": "Jo31vHcOLaDr"
      }
    },
    {
      "cell_type": "code",
      "source": [],
      "metadata": {
        "id": "zqid63iBLcTx"
      },
      "execution_count": null,
      "outputs": []
    },
    {
      "cell_type": "markdown",
      "source": [
        "***18. Aplique K-means para segmentar os dias em 3 grupos distintos de consumo elétrico. Interprete\n",
        "os resultados.***"
      ],
      "metadata": {
        "id": "ECncEbd4LcnH"
      }
    },
    {
      "cell_type": "code",
      "source": [],
      "metadata": {
        "id": "SSgFrFG_Less"
      },
      "execution_count": null,
      "outputs": []
    },
    {
      "cell_type": "markdown",
      "source": [
        "***19. Realize uma decomposição de série temporal (tendência, sazonalidade e resíduo) para\n",
        "Global_active_power em um período de 6 meses.***"
      ],
      "metadata": {
        "id": "NgWCph97LfMy"
      }
    },
    {
      "cell_type": "code",
      "source": [],
      "metadata": {
        "id": "ZaHpQhArLhlQ"
      },
      "execution_count": null,
      "outputs": []
    },
    {
      "cell_type": "markdown",
      "source": [
        "***20. Treine um modelo de regressão linear simples para prever Global_active_power a partir de\n",
        "Global_intensity. Avalie o erro do modelo.***"
      ],
      "metadata": {
        "id": "jH6JG_EmLh0G"
      }
    },
    {
      "cell_type": "code",
      "source": [],
      "metadata": {
        "id": "I87lb3aOLln3"
      },
      "execution_count": null,
      "outputs": []
    }
  ]
}